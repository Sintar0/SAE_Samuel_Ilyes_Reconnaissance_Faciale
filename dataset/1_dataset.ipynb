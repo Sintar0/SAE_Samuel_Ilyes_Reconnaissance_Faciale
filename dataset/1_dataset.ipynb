{
 "cells": [
  {
   "cell_type": "markdown",
   "id": "0a361880",
   "metadata": {},
   "source": [
    "# Reconnaissance faciale via $k$ plus proches voisins ($k$-NN)\n",
    "\n",
    ">## Partie 1: Dataset"
   ]
  },
  {
   "cell_type": "markdown",
   "id": "9a9f35df",
   "metadata": {},
   "source": [
    "## Librairies"
   ]
  },
  {
   "cell_type": "markdown",
   "id": "d691df55",
   "metadata": {},
   "source": [
    "- La librairie `cv2` permet la détection automatique de visages, entre autres.\n",
    "\n",
    "- La librairie `pickle` permet de sauvegarder vos modèles une fois entraînés, et de les recharger pour pouvoir les utiliser."
   ]
  },
  {
   "cell_type": "code",
   "execution_count": 34,
   "id": "8a41298c",
   "metadata": {},
   "outputs": [],
   "source": [
    "import os\n",
    "\n",
    "import cv2\n",
    "import pickle\n",
    "\n",
    "import numpy as np\n",
    "\n",
    "import matplotlib.pyplot as plt"
   ]
  },
  {
   "cell_type": "markdown",
   "id": "2089bbe3",
   "metadata": {},
   "source": [
    "## Création du dataset"
   ]
  },
  {
   "cell_type": "markdown",
   "id": "b0183880",
   "metadata": {},
   "source": [
    "Le code suivant permet de créer un **dataset** d'images que vous utiliserez dans votre projet de **reconnaissance faciale**. Ce dataset contiendra des images de vous-même associées à votre nom ainsi que des images d'autres personnes (par exemple vos camarades) associées à leurs noms. **À chaque fois que vos relancez le code ci-dessous, votre caméra capture 10 images de la personne qui se trouve devant vootre PC et ajoute ces dernières à votre dataset.** \n",
    "\n",
    "Le code effectue les opérations suivantes. Premièrement, on lit le flux vidéo de votre caméra et on détecte automatiquement les visages dans chaque image de ce flux en utilisant le **classificateur en cascade de Haar (Haar cascade classifier)** de la librairie `OpenCV`. \n",
    "\n",
    "Plus précisément, tant que la variable `ret` est vraie, indiquant que le flux vidéo est lu correctement, pour chaque image capturée par la caméras, on effectue les opérations suivantes:\n",
    "1. on convertit l'image en niveaux de gris;\n",
    "2. on détecte les coordonnées du visage en utilisant le classificateur en cascade de Haar;\n",
    "3. on recadre la région du visage et la redimensionne en $50 \\times 50$ pixels;\n",
    "4. on ajoute l'image du visage redimensionné à la liste `donnees_visage`, à chaque intervalle de $10$ images.\n",
    "\n",
    "Une fois que $10$ images de votre visage ont été collecteés, ou si l'utilisateur appuye sur la touche `Esc`, on met fin à la boucle et enregistre les images dans la liste `donnees_visage` sous forme d'un tableau `NumPy`.\n",
    "\n",
    "Par la suite, l'existence des fichiers `noms.pkl` et `visages.pkl` est vérifiée. S'ils n'existent pas, de nouveaux fichiers sont créés, la variable `nom` est enregistrée dans `noms.pkl` et les données de visage sont enregistrées dans `visages.pkl`. Si ces fichiers existent déjà, le code charge les données existantes, ajoute les nouvelles données de visage et noms, et les réenregistre le tout dans ces fichiers."
   ]
  },
  {
   "cell_type": "code",
   "execution_count": 35,
   "id": "1ba3a98f",
   "metadata": {},
   "outputs": [],
   "source": [
    "# ================== #\n",
    "# Variables globales #\n",
    "# ================== #\n",
    "if not os.path.exists(\"data\"):\n",
    "    os.mkdir(\"data\")         # création d'un répertoire data\n",
    "\n",
    "nb_images_collectees = 10    # nombre d'image que vous voulez collecter\n",
    "\n",
    "donnees_visage = []\n",
    "\n",
    "camera = cv2.VideoCapture(0) # 0 pour 'built-in' caméra, 1 pour caméra externe\n",
    "\n",
    "cascade_visage = cv2.CascadeClassifier(cv2.data.haarcascades + 'haarcascade_frontalface_default.xml')\n",
    "\n",
    "\n",
    "\n",
    "# =============================== #\n",
    "# Capture des data: nom et images #\n",
    "# =============================== #\n",
    "nom = input(\"Entrez votre nom: \")\n",
    "\n",
    "ret = True\n",
    "i = 0\n",
    "\n",
    "while(ret):\n",
    "    \n",
    "    ret, frame = camera.read()\n",
    "    \n",
    "    if ret == True:\n",
    "        \n",
    "        gris = cv2.cvtColor(frame, cv2.COLOR_BGR2GRAY)\n",
    "\n",
    "        coordonnees_visage = cascade_visage.detectMultiScale(gris, 1.3, 4)\n",
    "\n",
    "        for (a, b, w, h) in coordonnees_visage:\n",
    "            \n",
    "            visages = frame[b:b+h, a:a+w, :]\n",
    "            visages_redimensionnes = cv2.resize(visages, (50, 50))\n",
    "            \n",
    "            if i % 10 == 0 and len(donnees_visage) < nb_images_collectees:\n",
    "                \n",
    "                donnees_visage.append(visages_redimensionnes)\n",
    "                \n",
    "            cv2.rectangle(frame, (a, b), (a+w, b+h), (255, 0, 0), 2)\n",
    "            \n",
    "        i += 1\n",
    "\n",
    "        cv2.imshow('Visages', frame)\n",
    "\n",
    "        if cv2.waitKey(1) == 27 or len(donnees_visage) >= nb_images_collectees:\n",
    "            \n",
    "            break\n",
    "    else:\n",
    "        \n",
    "        print('erreur')\n",
    "        break\n",
    "    \n",
    "\n",
    "cv2.destroyAllWindows()\n",
    "camera.release()\n",
    "\n",
    "donnees_visage = np.asarray(donnees_visage)\n",
    "# donnees_visage = donnees_visage.reshape(10, -1)\n",
    "\n",
    "\n",
    "# ======================================= #\n",
    "# Enregistrement des data:  nom et images #\n",
    "# ======================================= #\n",
    "if 'noms.pkl' not in os.listdir('data/'):\n",
    "    \n",
    "    noms = [nom]*10\n",
    "    with open('data/noms.pkl', 'wb') as file:\n",
    "        pickle.dump(noms, file)\n",
    "else:\n",
    "    \n",
    "    with open('data/noms.pkl', 'rb') as file:\n",
    "        noms = pickle.load(file)\n",
    "\n",
    "    noms = noms + [nom]*10\n",
    "    with open('data/noms.pkl', 'wb') as file:\n",
    "        pickle.dump(noms, file)\n",
    "\n",
    "\n",
    "if 'visages.pkl' not in os.listdir('data/'):\n",
    "    \n",
    "    with open('data/visages.pkl', 'wb') as w:\n",
    "        pickle.dump(donnees_visage, w)\n",
    "else:\n",
    "    \n",
    "    with open('data/visages.pkl', 'rb') as w:\n",
    "        visages = pickle.load(w)\n",
    "\n",
    "    visages = np.append(visages, donnees_visage, axis=0)\n",
    "    with open('data/visages.pkl', 'wb') as w:\n",
    "        pickle.dump(visages, w)"
   ]
  },
  {
   "cell_type": "markdown",
   "id": "e3bec3e0",
   "metadata": {},
   "source": [
    "## Visualisation du dataset"
   ]
  },
  {
   "cell_type": "markdown",
   "id": "08df3d2c",
   "metadata": {},
   "source": [
    "Le instructions suivantes permettent de loader votre dataset et de comprendre comment sont stockées les data.\n",
    "\n",
    "Prêtez attention aux types de vos data, en particulier à la dimension de vos images, etc."
   ]
  },
  {
   "cell_type": "code",
   "execution_count": 36,
   "id": "c4c5cd3d",
   "metadata": {},
   "outputs": [],
   "source": [
    "with open(\"data/noms.pkl\", \"rb\") as fh:\n",
    "    noms = pickle.load(fh)"
   ]
  },
  {
   "cell_type": "code",
   "execution_count": 37,
   "id": "b3af5a29",
   "metadata": {},
   "outputs": [
    {
     "data": {
      "text/plain": [
       "['sAmueL',\n",
       " 'sAmueL',\n",
       " 'sAmueL',\n",
       " 'sAmueL',\n",
       " 'sAmueL',\n",
       " 'sAmueL',\n",
       " 'sAmueL',\n",
       " 'sAmueL',\n",
       " 'sAmueL',\n",
       " 'sAmueL',\n",
       " 'Ilyes',\n",
       " 'Ilyes',\n",
       " 'Ilyes',\n",
       " 'Ilyes',\n",
       " 'Ilyes',\n",
       " 'Ilyes',\n",
       " 'Ilyes',\n",
       " 'Ilyes',\n",
       " 'Ilyes',\n",
       " 'Ilyes']"
      ]
     },
     "execution_count": 37,
     "metadata": {},
     "output_type": "execute_result"
    }
   ],
   "source": [
    "noms"
   ]
  },
  {
   "cell_type": "code",
   "execution_count": 38,
   "id": "d7fc242c",
   "metadata": {},
   "outputs": [],
   "source": [
    "with open(\"data/visages.pkl\", \"rb\") as fh:\n",
    "    visages = pickle.load(fh)"
   ]
  },
  {
   "cell_type": "code",
   "execution_count": 39,
   "id": "10dab6d3",
   "metadata": {},
   "outputs": [
    {
     "data": {
      "text/plain": [
       "array([[[[ 91,  97,  99],\n",
       "         [ 95,  96,  99],\n",
       "         [118, 125, 128],\n",
       "         ...,\n",
       "         [104, 107, 112],\n",
       "         [ 86,  89,  94],\n",
       "         [ 85,  85,  88]],\n",
       "\n",
       "        [[ 95, 102, 102],\n",
       "         [100, 107, 110],\n",
       "         [143, 162, 166],\n",
       "         ...,\n",
       "         [102, 104, 107],\n",
       "         [ 91,  94,  98],\n",
       "         [ 98,  99, 104]],\n",
       "\n",
       "        [[ 98, 103, 105],\n",
       "         [102, 115, 117],\n",
       "         [149, 167, 171],\n",
       "         ...,\n",
       "         [ 83,  88,  91],\n",
       "         [ 85,  88,  95],\n",
       "         [102, 102, 111]],\n",
       "\n",
       "        ...,\n",
       "\n",
       "        [[154, 156, 162],\n",
       "         [153, 157, 165],\n",
       "         [156, 161, 172],\n",
       "         ...,\n",
       "         [255, 255, 254],\n",
       "         [254, 255, 253],\n",
       "         [252, 253, 251]],\n",
       "\n",
       "        [[152, 154, 155],\n",
       "         [145, 147, 148],\n",
       "         [149, 149, 154],\n",
       "         ...,\n",
       "         [255, 255, 254],\n",
       "         [254, 255, 254],\n",
       "         [242, 244, 241]],\n",
       "\n",
       "        [[149, 151, 152],\n",
       "         [145, 147, 148],\n",
       "         [142, 146, 147],\n",
       "         ...,\n",
       "         [255, 255, 254],\n",
       "         [254, 254, 252],\n",
       "         [254, 254, 253]]],\n",
       "\n",
       "\n",
       "       [[[ 89,  92,  94],\n",
       "         [ 96,  98,  99],\n",
       "         [112, 118, 121],\n",
       "         ...,\n",
       "         [ 95,  96, 100],\n",
       "         [ 95,  96,  99],\n",
       "         [ 87,  87,  88]],\n",
       "\n",
       "        [[ 97, 102, 103],\n",
       "         [102, 104, 108],\n",
       "         [143, 151, 157],\n",
       "         ...,\n",
       "         [ 95,  99, 101],\n",
       "         [ 94,  98, 100],\n",
       "         [ 98, 102, 103]],\n",
       "\n",
       "        [[ 98, 102, 103],\n",
       "         [102, 105, 108],\n",
       "         [149, 162, 167],\n",
       "         ...,\n",
       "         [ 81,  83,  87],\n",
       "         [ 84,  87,  91],\n",
       "         [ 99, 101, 105]],\n",
       "\n",
       "        ...,\n",
       "\n",
       "        [[152, 153, 157],\n",
       "         [154, 155, 159],\n",
       "         [156, 157, 161],\n",
       "         ...,\n",
       "         [255, 255, 254],\n",
       "         [254, 255, 253],\n",
       "         [254, 255, 253]],\n",
       "\n",
       "        [[149, 151, 152],\n",
       "         [145, 147, 148],\n",
       "         [145, 147, 148],\n",
       "         ...,\n",
       "         [255, 255, 254],\n",
       "         [255, 255, 254],\n",
       "         [254, 252, 252]],\n",
       "\n",
       "        [[148, 150, 150],\n",
       "         [144, 146, 147],\n",
       "         [145, 147, 148],\n",
       "         ...,\n",
       "         [255, 255, 254],\n",
       "         [255, 255, 252],\n",
       "         [254, 254, 253]]],\n",
       "\n",
       "\n",
       "       [[[ 87,  90,  91],\n",
       "         [ 94,  93,  95],\n",
       "         [ 93,  98,  99],\n",
       "         ...,\n",
       "         [ 77,  77,  77],\n",
       "         [ 84,  81,  84],\n",
       "         [ 80,  83,  82]],\n",
       "\n",
       "        [[ 95,  97,  98],\n",
       "         [102, 103, 104],\n",
       "         [133, 143, 145],\n",
       "         ...,\n",
       "         [ 92,  94,  94],\n",
       "         [ 78,  76,  79],\n",
       "         [ 77,  78,  78]],\n",
       "\n",
       "        [[ 98,  99, 101],\n",
       "         [100, 106, 108],\n",
       "         [148, 165, 168],\n",
       "         ...,\n",
       "         [105, 105, 107],\n",
       "         [ 85,  86,  88],\n",
       "         [ 86,  87,  88]],\n",
       "\n",
       "        ...,\n",
       "\n",
       "        [[151, 151, 151],\n",
       "         [146, 146, 146],\n",
       "         [146, 146, 146],\n",
       "         ...,\n",
       "         [241, 243, 241],\n",
       "         [218, 200, 203],\n",
       "         [180, 161, 161]],\n",
       "\n",
       "        [[149, 151, 151],\n",
       "         [144, 145, 147],\n",
       "         [148, 148, 152],\n",
       "         ...,\n",
       "         [255, 255, 254],\n",
       "         [252, 252, 252],\n",
       "         [254, 255, 252]],\n",
       "\n",
       "        [[152, 152, 153],\n",
       "         [150, 150, 150],\n",
       "         [154, 153, 155],\n",
       "         ...,\n",
       "         [255, 255, 252],\n",
       "         [255, 254, 254],\n",
       "         [255, 254, 252]]],\n",
       "\n",
       "\n",
       "       ...,\n",
       "\n",
       "\n",
       "       [[[198, 203, 194],\n",
       "         [199, 204, 196],\n",
       "         [200, 203, 195],\n",
       "         ...,\n",
       "         [150, 160, 160],\n",
       "         [144, 151, 151],\n",
       "         [139, 145, 142]],\n",
       "\n",
       "        [[199, 203, 195],\n",
       "         [199, 204, 194],\n",
       "         [198, 201, 193],\n",
       "         ...,\n",
       "         [162, 169, 166],\n",
       "         [166, 173, 169],\n",
       "         [169, 178, 172]],\n",
       "\n",
       "        [[198, 202, 196],\n",
       "         [198, 202, 196],\n",
       "         [201, 205, 196],\n",
       "         ...,\n",
       "         [171, 176, 171],\n",
       "         [171, 178, 173],\n",
       "         [172, 179, 174]],\n",
       "\n",
       "        ...,\n",
       "\n",
       "        [[184, 185, 181],\n",
       "         [187, 188, 183],\n",
       "         [187, 188, 182],\n",
       "         ...,\n",
       "         [178, 180, 180],\n",
       "         [181, 183, 183],\n",
       "         [183, 186, 185]],\n",
       "\n",
       "        [[186, 185, 181],\n",
       "         [186, 187, 184],\n",
       "         [185, 185, 182],\n",
       "         ...,\n",
       "         [178, 180, 180],\n",
       "         [181, 183, 183],\n",
       "         [182, 184, 184]],\n",
       "\n",
       "        [[185, 185, 181],\n",
       "         [187, 186, 183],\n",
       "         [186, 186, 184],\n",
       "         ...,\n",
       "         [177, 179, 179],\n",
       "         [179, 181, 181],\n",
       "         [182, 184, 184]]],\n",
       "\n",
       "\n",
       "       [[[199, 204, 196],\n",
       "         [198, 203, 194],\n",
       "         [197, 201, 195],\n",
       "         ...,\n",
       "         [171, 177, 174],\n",
       "         [237, 241, 237],\n",
       "         [221, 233, 228]],\n",
       "\n",
       "        [[198, 202, 196],\n",
       "         [197, 203, 196],\n",
       "         [197, 201, 195],\n",
       "         ...,\n",
       "         [175, 179, 177],\n",
       "         [239, 243, 240],\n",
       "         [251, 253, 250]],\n",
       "\n",
       "        [[199, 201, 195],\n",
       "         [197, 203, 196],\n",
       "         [197, 202, 195],\n",
       "         ...,\n",
       "         [174, 178, 175],\n",
       "         [240, 241, 240],\n",
       "         [252, 255, 254]],\n",
       "\n",
       "        ...,\n",
       "\n",
       "        [[180, 184, 179],\n",
       "         [180, 185, 179],\n",
       "         [182, 184, 180],\n",
       "         ...,\n",
       "         [184, 187, 185],\n",
       "         [184, 187, 184],\n",
       "         [182, 185, 181]],\n",
       "\n",
       "        [[180, 184, 179],\n",
       "         [180, 184, 179],\n",
       "         [183, 184, 180],\n",
       "         ...,\n",
       "         [183, 186, 182],\n",
       "         [183, 187, 183],\n",
       "         [182, 185, 182]],\n",
       "\n",
       "        [[182, 184, 179],\n",
       "         [183, 185, 180],\n",
       "         [184, 185, 181],\n",
       "         ...,\n",
       "         [183, 186, 185],\n",
       "         [182, 186, 181],\n",
       "         [182, 185, 184]]],\n",
       "\n",
       "\n",
       "       [[[199, 204, 197],\n",
       "         [198, 203, 196],\n",
       "         [195, 200, 194],\n",
       "         ...,\n",
       "         [253, 255, 253],\n",
       "         [253, 255, 252],\n",
       "         [253, 255, 252]],\n",
       "\n",
       "        [[198, 203, 196],\n",
       "         [197, 202, 195],\n",
       "         [197, 202, 195],\n",
       "         ...,\n",
       "         [253, 255, 253],\n",
       "         [253, 255, 252],\n",
       "         [253, 255, 252]],\n",
       "\n",
       "        [[198, 203, 196],\n",
       "         [198, 203, 195],\n",
       "         [197, 201, 194],\n",
       "         ...,\n",
       "         [253, 255, 254],\n",
       "         [253, 255, 254],\n",
       "         [253, 255, 252]],\n",
       "\n",
       "        ...,\n",
       "\n",
       "        [[185, 186, 179],\n",
       "         [182, 184, 178],\n",
       "         [180, 182, 176],\n",
       "         ...,\n",
       "         [184, 188, 183],\n",
       "         [184, 188, 183],\n",
       "         [183, 187, 182]],\n",
       "\n",
       "        [[183, 183, 176],\n",
       "         [181, 183, 177],\n",
       "         [180, 180, 173],\n",
       "         ...,\n",
       "         [184, 188, 183],\n",
       "         [183, 187, 182],\n",
       "         [182, 186, 181]],\n",
       "\n",
       "        [[179, 180, 174],\n",
       "         [179, 181, 175],\n",
       "         [177, 179, 173],\n",
       "         ...,\n",
       "         [183, 188, 183],\n",
       "         [184, 188, 183],\n",
       "         [182, 185, 183]]]], dtype=uint8)"
      ]
     },
     "execution_count": 39,
     "metadata": {},
     "output_type": "execute_result"
    }
   ],
   "source": [
    "visages"
   ]
  },
  {
   "cell_type": "code",
   "execution_count": 40,
   "id": "a8436555",
   "metadata": {},
   "outputs": [
    {
     "data": {
      "text/plain": [
       "(20, 50, 50, 3)"
      ]
     },
     "execution_count": 40,
     "metadata": {},
     "output_type": "execute_result"
    }
   ],
   "source": [
    "visages.shape"
   ]
  },
  {
   "cell_type": "code",
   "execution_count": 41,
   "id": "1ef19a8e",
   "metadata": {},
   "outputs": [
    {
     "data": {
      "text/plain": [
       "(50, 50, 3)"
      ]
     },
     "execution_count": 41,
     "metadata": {},
     "output_type": "execute_result"
    }
   ],
   "source": [
    "sample_1 = visages[0]\n",
    "sample_1.shape"
   ]
  },
  {
   "cell_type": "code",
   "execution_count": 42,
   "id": "c3539263",
   "metadata": {},
   "outputs": [
    {
     "data": {
      "text/plain": [
       "<matplotlib.image.AxesImage at 0x109e91e7d00>"
      ]
     },
     "execution_count": 42,
     "metadata": {},
     "output_type": "execute_result"
    },
    {
     "data": {
      "image/png": "[encoded data removed]",
      "text/plain": [
       "<Figure size 432x288 with 1 Axes>"
      ]
     },
     "metadata": {
      "needs_background": "light"
     },
     "output_type": "display_data"
    }
   ],
   "source": [
    "plt.imshow(sample_1, interpolation=\"nearest\")"
   ]
  },
  {
   "cell_type": "code",
   "execution_count": 43,
   "id": "ac4aaef1",
   "metadata": {},
   "outputs": [
    {
     "data": {
      "text/plain": [
       "(50, 50, 3)"
      ]
     },
     "execution_count": 43,
     "metadata": {},
     "output_type": "execute_result"
    }
   ],
   "source": [
    "sample_2 = visages[5]\n",
    "sample_2.shape"
   ]
  },
  {
   "cell_type": "code",
   "execution_count": 44,
   "id": "ed489bfa",
   "metadata": {},
   "outputs": [
    {
     "data": {
      "text/plain": [
       "<matplotlib.image.AxesImage at 0x109e960d3a0>"
      ]
     },
     "execution_count": 44,
     "metadata": {},
     "output_type": "execute_result"
    },
    {
     "data": {
      "image/png": "[encoded data removed]",
      "text/plain": [
       "<Figure size 432x288 with 1 Axes>"
      ]
     },
     "metadata": {
      "needs_background": "light"
     },
     "output_type": "display_data"
    }
   ],
   "source": [
    "plt.imshow(sample_2, interpolation=\"nearest\")"
   ]
  }
 ],
 "metadata": {
  "kernelspec": {
   "display_name": "Python 3",
   "language": "python",
   "name": "python3"
  },
  "language_info": {
   "codemirror_mode": {
    "name": "ipython",
    "version": 3
   },
   "file_extension": ".py",
   "mimetype": "text/x-python",
   "name": "python",
   "nbconvert_exporter": "python",
   "pygments_lexer": "ipython3",
   "version": "3.9.13"
  }
 },
 "nbformat": 4,
 "nbformat_minor": 5
}
