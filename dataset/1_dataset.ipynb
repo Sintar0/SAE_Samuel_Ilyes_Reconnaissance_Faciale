{
 "cells": [
  {
   "cell_type": "markdown",
   "id": "0a361880",
   "metadata": {},
   "source": [
    "# Reconnaissance faciale via $k$ plus proches voisins ($k$-NN)\n",
    "\n",
    ">## Partie 1: Dataset"
   ]
  },
  {
   "cell_type": "markdown",
   "id": "9a9f35df",
   "metadata": {},
   "source": [
    "## Librairies"
   ]
  },
  {
   "cell_type": "markdown",
   "id": "d691df55",
   "metadata": {},
   "source": [
    "- La librairie `cv2` permet la détection automatique de visages, entre autres.\n",
    "\n",
    "- La librairie `pickle` permet de sauvegarder vos modèles une fois entraînés, et de les recharger pour pouvoir les utiliser."
   ]
  },
  {
   "cell_type": "code",
   "execution_count": 1,
   "id": "8a41298c",
   "metadata": {},
   "outputs": [],
   "source": [
    "import os\n",
    "\n",
    "import cv2\n",
    "import pickle\n",
    "\n",
    "import numpy as np\n",
    "\n",
    "import matplotlib.pyplot as plt"
   ]
  },
  {
   "cell_type": "markdown",
   "id": "2089bbe3",
   "metadata": {},
   "source": [
    "## Création du dataset"
   ]
  },
  {
   "cell_type": "markdown",
   "id": "b0183880",
   "metadata": {},
   "source": [
    "Le code suivant permet de créer un **dataset** d'images que vous utiliserez dans votre projet de **reconnaissance faciale**. Ce dataset contiendra des images de vous-même associées à votre nom ainsi que des images d'autres personnes (par exemple vos camarades) associées à leurs noms. **À chaque fois que vos relancez le code ci-dessous, votre caméra capture 10 images de la personne qui se trouve devant vootre PC et ajoute ces dernières à votre dataset.** \n",
    "\n",
    "Le code effectue les opérations suivantes. Premièrement, on lit le flux vidéo de votre caméra et on détecte automatiquement les visages dans chaque image de ce flux en utilisant le **classificateur en cascade de Haar (Haar cascade classifier)** de la librairie `OpenCV`. \n",
    "\n",
    "Plus précisément, tant que la variable `ret` est vraie, indiquant que le flux vidéo est lu correctement, pour chaque image capturée par la caméras, on effectue les opérations suivantes:\n",
    "1. on convertit l'image en niveaux de gris;\n",
    "2. on détecte les coordonnées du visage en utilisant le classificateur en cascade de Haar;\n",
    "3. on recadre la région du visage et la redimensionne en $50 \\times 50$ pixels;\n",
    "4. on ajoute l'image du visage redimensionné à la liste `donnees_visage`, à chaque intervalle de $10$ images.\n",
    "\n",
    "Une fois que $10$ images de votre visage ont été collecteés, ou si l'utilisateur appuye sur la touche `Esc`, on met fin à la boucle et enregistre les images dans la liste `donnees_visage` sous forme d'un tableau `NumPy`.\n",
    "\n",
    "Par la suite, l'existence des fichiers `noms.pkl` et `visages.pkl` est vérifiée. S'ils n'existent pas, de nouveaux fichiers sont créés, la variable `nom` est enregistrée dans `noms.pkl` et les données de visage sont enregistrées dans `visages.pkl`. Si ces fichiers existent déjà, le code charge les données existantes, ajoute les nouvelles données de visage et noms, et les réenregistre le tout dans ces fichiers."
   ]
  },
  {
   "cell_type": "code",
   "execution_count": 2,
   "id": "1ba3a98f",
   "metadata": {},
   "outputs": [],
   "source": [
    "# ================== #\n",
    "# Variables globales #\n",
    "# ================== #\n",
    "if not os.path.exists(\"data\"):\n",
    "    os.mkdir(\"data\")         # création d'un répertoire data\n",
    "\n",
    "nb_images_collectees = 10    # nombre d'image que vous voulez collecter\n",
    "\n",
    "donnees_visage = []\n",
    "\n",
    "camera = cv2.VideoCapture(0) # 0 pour 'built-in' caméra, 1 pour caméra externe\n",
    "\n",
    "cascade_visage = cv2.CascadeClassifier(cv2.data.haarcascades + 'haarcascade_frontalface_default.xml')\n",
    "\n",
    "\n",
    "\n",
    "# =============================== #\n",
    "# Capture des data: nom et images #\n",
    "# =============================== #\n",
    "nom = input(\"Entrez votre nom: \")\n",
    "\n",
    "ret = True\n",
    "i = 0\n",
    "\n",
    "while(ret):\n",
    "    \n",
    "    ret, frame = camera.read()\n",
    "    \n",
    "    if ret == True:\n",
    "        \n",
    "        gris = cv2.cvtColor(frame, cv2.COLOR_BGR2GRAY)\n",
    "\n",
    "        coordonnees_visage = cascade_visage.detectMultiScale(gris, 1.3, 4)\n",
    "\n",
    "        for (a, b, w, h) in coordonnees_visage:\n",
    "            \n",
    "            visages = frame[b:b+h, a:a+w, :]\n",
    "            visages_redimensionnes = cv2.resize(visages, (50, 50))\n",
    "            \n",
    "            if i % 10 == 0 and len(donnees_visage) < nb_images_collectees:\n",
    "                \n",
    "                donnees_visage.append(visages_redimensionnes)\n",
    "                \n",
    "            cv2.rectangle(frame, (a, b), (a+w, b+h), (255, 0, 0), 2)\n",
    "            \n",
    "        i += 1\n",
    "\n",
    "        cv2.imshow('Visages', frame)\n",
    "\n",
    "        if cv2.waitKey(1) == 27 or len(donnees_visage) >= nb_images_collectees:\n",
    "            \n",
    "            break\n",
    "    else:\n",
    "        \n",
    "        print('erreur')\n",
    "        break\n",
    "    \n",
    "\n",
    "cv2.destroyAllWindows()\n",
    "camera.release()\n",
    "\n",
    "donnees_visage = np.asarray(donnees_visage)\n",
    "# donnees_visage = donnees_visage.reshape(10, -1)\n",
    "\n",
    "\n",
    "# ====================================== #\n",
    "# Enregistrement des data: nom et images #\n",
    "# ====================================== #\n",
    "if 'noms.pkl' not in os.listdir('data/'):\n",
    "    \n",
    "    noms = [nom]*10\n",
    "    with open('data/noms.pkl', 'wb') as file:\n",
    "        pickle.dump(noms, file)\n",
    "else:\n",
    "    \n",
    "    with open('data/noms.pkl', 'rb') as file:\n",
    "        noms = pickle.load(file)\n",
    "\n",
    "    noms = noms + [nom]*10\n",
    "    with open('data/noms.pkl', 'wb') as file:\n",
    "        pickle.dump(noms, file)\n",
    "\n",
    "\n",
    "if 'visages.pkl' not in os.listdir('data/'):\n",
    "    \n",
    "    with open('data/visages.pkl', 'wb') as w:\n",
    "        pickle.dump(donnees_visage, w)\n",
    "else:\n",
    "    \n",
    "    with open('data/visages.pkl', 'rb') as w:\n",
    "        visages = pickle.load(w)\n",
    "\n",
    "    visages = np.append(visages, donnees_visage, axis=0)\n",
    "    with open('data/visages.pkl', 'wb') as w:\n",
    "        pickle.dump(visages, w)"
   ]
  },
  {
   "cell_type": "markdown",
   "id": "e3bec3e0",
   "metadata": {},
   "source": [
    "## Visualisation du dataset"
   ]
  },
  {
   "cell_type": "markdown",
   "id": "08df3d2c",
   "metadata": {},
   "source": [
    "Le instructions suivantes permettent de loader votre dataset et de comprendre comment sont stockées les data.\n",
    "\n",
    "Prêtez attention aux types de vos data, en particulier à la dimension de vos images, etc."
   ]
  },
  {
   "cell_type": "code",
   "execution_count": 3,
   "id": "c4c5cd3d",
   "metadata": {},
   "outputs": [],
   "source": [
    "with open(\"data/noms.pkl\", \"rb\") as fh:\n",
    "    noms = pickle.load(fh)"
   ]
  },
  {
   "cell_type": "code",
   "execution_count": 4,
   "id": "b3af5a29",
   "metadata": {},
   "outputs": [
    {
     "data": {
      "text/plain": [
       "['Ilyes',\n",
       " 'Ilyes',\n",
       " 'Ilyes',\n",
       " 'Ilyes',\n",
       " 'Ilyes',\n",
       " 'Ilyes',\n",
       " 'Ilyes',\n",
       " 'Ilyes',\n",
       " 'Ilyes',\n",
       " 'Ilyes',\n",
       " 'Rj45',\n",
       " 'Rj45',\n",
       " 'Rj45',\n",
       " 'Rj45',\n",
       " 'Rj45',\n",
       " 'Rj45',\n",
       " 'Rj45',\n",
       " 'Rj45',\n",
       " 'Rj45',\n",
       " 'Rj45']"
      ]
     },
     "execution_count": 4,
     "metadata": {},
     "output_type": "execute_result"
    }
   ],
   "source": [
    "noms"
   ]
  },
  {
   "cell_type": "code",
   "execution_count": 5,
   "id": "d7fc242c",
   "metadata": {},
   "outputs": [],
   "source": [
    "with open(\"data/visages.pkl\", \"rb\") as fh:\n",
    "    visages = pickle.load(fh)"
   ]
  },
  {
   "cell_type": "code",
   "execution_count": 6,
   "id": "10dab6d3",
   "metadata": {},
   "outputs": [
    {
     "data": {
      "text/plain": [
       "array([[[[197, 198, 199],\n",
       "         [193, 192, 198],\n",
       "         [ 57,  56,  62],\n",
       "         ...,\n",
       "         [218, 217, 221],\n",
       "         [218, 218, 221],\n",
       "         [219, 218, 222]],\n",
       "\n",
       "        [[196, 197, 201],\n",
       "         [ 52,  51,  57],\n",
       "         [ 28,  28,  33],\n",
       "         ...,\n",
       "         [219, 218, 222],\n",
       "         [217, 217, 220],\n",
       "         [218, 217, 221]],\n",
       "\n",
       "        [[ 72,  73,  77],\n",
       "         [ 34,  33,  36],\n",
       "         [ 28,  26,  28],\n",
       "         ...,\n",
       "         [214, 215, 216],\n",
       "         [216, 216, 219],\n",
       "         [218, 217, 220]],\n",
       "\n",
       "        ...,\n",
       "\n",
       "        [[ 49,  70, 109],\n",
       "         [ 41,  65, 110],\n",
       "         [ 42,  62, 108],\n",
       "         ...,\n",
       "         [209, 201, 200],\n",
       "         [208, 201, 199],\n",
       "         [204, 197, 195]],\n",
       "\n",
       "        [[ 49,  69, 113],\n",
       "         [ 44,  64, 113],\n",
       "         [ 40,  63, 107],\n",
       "         ...,\n",
       "         [208, 201, 200],\n",
       "         [210, 201, 199],\n",
       "         [208, 200, 196]],\n",
       "\n",
       "        [[ 43,  67, 107],\n",
       "         [ 40,  65, 107],\n",
       "         [ 44,  64, 109],\n",
       "         ...,\n",
       "         [204, 200, 195],\n",
       "         [204, 199, 197],\n",
       "         [208, 199, 199]]],\n",
       "\n",
       "\n",
       "       [[[153, 157, 159],\n",
       "         [154, 159, 161],\n",
       "         [154, 158, 162],\n",
       "         ...,\n",
       "         [170, 170, 172],\n",
       "         [170, 171, 173],\n",
       "         [170, 169, 172]],\n",
       "\n",
       "        [[153, 158, 163],\n",
       "         [152, 157, 161],\n",
       "         [157, 156, 161],\n",
       "         ...,\n",
       "         [170, 170, 174],\n",
       "         [167, 170, 171],\n",
       "         [170, 170, 172]],\n",
       "\n",
       "        [[153, 157, 159],\n",
       "         [154, 156, 157],\n",
       "         [154, 155, 161],\n",
       "         ...,\n",
       "         [167, 168, 173],\n",
       "         [169, 170, 172],\n",
       "         [170, 169, 172]],\n",
       "\n",
       "        ...,\n",
       "\n",
       "        [[148, 147, 146],\n",
       "         [147, 147, 146],\n",
       "         [149, 146, 147],\n",
       "         ...,\n",
       "         [158, 156, 156],\n",
       "         [158, 158, 156],\n",
       "         [160, 158, 156]],\n",
       "\n",
       "        [[148, 146, 146],\n",
       "         [148, 147, 145],\n",
       "         [149, 146, 147],\n",
       "         ...,\n",
       "         [160, 156, 156],\n",
       "         [157, 157, 155],\n",
       "         [162, 157, 156]],\n",
       "\n",
       "        [[147, 147, 147],\n",
       "         [148, 146, 147],\n",
       "         [149, 147, 147],\n",
       "         ...,\n",
       "         [156, 157, 152],\n",
       "         [161, 157, 156],\n",
       "         [161, 157, 158]]],\n",
       "\n",
       "\n",
       "       [[[200, 199, 204],\n",
       "         [199, 198, 202],\n",
       "         [196, 199, 196],\n",
       "         ...,\n",
       "         [217, 210, 213],\n",
       "         [220, 218, 223],\n",
       "         [218, 217, 220]],\n",
       "\n",
       "        [[198, 197, 202],\n",
       "         [199, 198, 203],\n",
       "         [200, 200, 200],\n",
       "         ...,\n",
       "         [212, 205, 213],\n",
       "         [218, 215, 220],\n",
       "         [213, 215, 219]],\n",
       "\n",
       "        [[198, 197, 202],\n",
       "         [198, 197, 200],\n",
       "         [198, 200, 200],\n",
       "         ...,\n",
       "         [202, 202, 202],\n",
       "         [217, 213, 218],\n",
       "         [215, 214, 219]],\n",
       "\n",
       "        ...,\n",
       "\n",
       "        [[ 15,  11,   9],\n",
       "         [ 15,  10,  11],\n",
       "         [ 13,  11,   9],\n",
       "         ...,\n",
       "         [ 52,  34,  33],\n",
       "         [ 58,  34,  34],\n",
       "         [ 56,  33,  33]],\n",
       "\n",
       "        [[ 15,  10,  11],\n",
       "         [ 14,  10,  10],\n",
       "         [  7,  11,   6],\n",
       "         ...,\n",
       "         [ 54,  32,  27],\n",
       "         [ 56,  33,  29],\n",
       "         [ 58,  34,  31]],\n",
       "\n",
       "        [[ 14,   9,   8],\n",
       "         [ 13,   9,   9],\n",
       "         [ 11,  10,   8],\n",
       "         ...,\n",
       "         [ 54,  32,  27],\n",
       "         [ 56,  34,  26],\n",
       "         [ 56,  34,  31]]],\n",
       "\n",
       "\n",
       "       ...,\n",
       "\n",
       "\n",
       "       [[[ 50,  67,  81],\n",
       "         [ 40,  49,  59],\n",
       "         [ 25,  33,  39],\n",
       "         ...,\n",
       "         [ 56,  80,  93],\n",
       "         [ 51,  78,  88],\n",
       "         [ 56,  79,  91]],\n",
       "\n",
       "        [[ 58,  67,  80],\n",
       "         [ 38,  43,  57],\n",
       "         [ 24,  30,  33],\n",
       "         ...,\n",
       "         [ 28,  54,  71],\n",
       "         [ 30,  55,  72],\n",
       "         [ 32,  56,  75]],\n",
       "\n",
       "        [[ 43,  51,  62],\n",
       "         [ 27,  33,  39],\n",
       "         [ 24,  30,  32],\n",
       "         ...,\n",
       "         [ 24,  45,  65],\n",
       "         [ 31,  46,  63],\n",
       "         [ 28,  46,  63]],\n",
       "\n",
       "        ...,\n",
       "\n",
       "        [[ 85, 106, 126],\n",
       "         [ 89, 115, 129],\n",
       "         [133, 147, 157],\n",
       "         ...,\n",
       "         [ 65,  94, 117],\n",
       "         [ 64,  93, 116],\n",
       "         [ 62,  92, 114]],\n",
       "\n",
       "        [[ 79, 103, 124],\n",
       "         [ 84, 106, 127],\n",
       "         [ 92, 113, 129],\n",
       "         ...,\n",
       "         [ 66,  92, 117],\n",
       "         [ 71,  94, 120],\n",
       "         [ 63,  89, 116]],\n",
       "\n",
       "        [[ 75, 101, 124],\n",
       "         [ 71, 105, 128],\n",
       "         [ 86, 105, 126],\n",
       "         ...,\n",
       "         [ 66,  91, 118],\n",
       "         [ 69,  93, 120],\n",
       "         [ 71,  90, 122]]],\n",
       "\n",
       "\n",
       "       [[[164, 177, 185],\n",
       "         [118, 137, 148],\n",
       "         [ 57,  73,  89],\n",
       "         ...,\n",
       "         [ 88, 109, 120],\n",
       "         [ 86, 109, 118],\n",
       "         [ 89, 107, 117]],\n",
       "\n",
       "        [[157, 174, 184],\n",
       "         [108, 124, 136],\n",
       "         [ 54,  66,  79],\n",
       "         ...,\n",
       "         [ 68,  88, 102],\n",
       "         [ 69,  90, 104],\n",
       "         [ 69,  88, 101]],\n",
       "\n",
       "        [[155, 170, 179],\n",
       "         [102, 117, 130],\n",
       "         [ 49,  59,  72],\n",
       "         ...,\n",
       "         [ 46,  62,  84],\n",
       "         [ 45,  63,  82],\n",
       "         [ 46,  65,  81]],\n",
       "\n",
       "        ...,\n",
       "\n",
       "        [[ 31,  51,  74],\n",
       "         [ 75,  98, 118],\n",
       "         [ 85, 106, 123],\n",
       "         ...,\n",
       "         [ 68,  96, 118],\n",
       "         [ 61,  97, 119],\n",
       "         [ 63,  94, 118]],\n",
       "\n",
       "        [[ 41,  50,  80],\n",
       "         [ 69,  94, 120],\n",
       "         [ 76, 106, 123],\n",
       "         ...,\n",
       "         [ 66,  98, 120],\n",
       "         [ 63,  96, 118],\n",
       "         [ 63,  93, 119]],\n",
       "\n",
       "        [[ 49,  56,  84],\n",
       "         [ 73,  93, 119],\n",
       "         [ 76, 101, 122],\n",
       "         ...,\n",
       "         [ 64,  92, 117],\n",
       "         [ 63,  93, 117],\n",
       "         [ 63,  95, 121]]],\n",
       "\n",
       "\n",
       "       [[[146, 163, 173],\n",
       "         [ 62,  78,  95],\n",
       "         [ 51,  56,  75],\n",
       "         ...,\n",
       "         [ 92, 107, 117],\n",
       "         [ 84, 102, 114],\n",
       "         [ 84, 102, 115]],\n",
       "\n",
       "        [[138, 155, 168],\n",
       "         [ 58,  76,  90],\n",
       "         [ 42,  54,  69],\n",
       "         ...,\n",
       "         [ 67,  83,  96],\n",
       "         [ 66,  82,  97],\n",
       "         [ 64,  85, 102]],\n",
       "\n",
       "        [[124, 138, 149],\n",
       "         [ 59,  73,  86],\n",
       "         [ 35,  44,  55],\n",
       "         ...,\n",
       "         [ 42,  58,  77],\n",
       "         [ 45,  57,  76],\n",
       "         [ 49,  58,  78]],\n",
       "\n",
       "        ...,\n",
       "\n",
       "        [[ 66,  89, 113],\n",
       "         [ 81, 104, 126],\n",
       "         [ 92, 112, 129],\n",
       "         ...,\n",
       "         [ 69,  96, 120],\n",
       "         [ 65,  95, 119],\n",
       "         [ 62,  96, 120]],\n",
       "\n",
       "        [[ 68,  88, 115],\n",
       "         [ 78, 100, 123],\n",
       "         [ 92, 107, 125],\n",
       "         ...,\n",
       "         [ 72,  97, 123],\n",
       "         [ 68,  97, 122],\n",
       "         [ 67,  94, 118]],\n",
       "\n",
       "        [[ 70,  92, 118],\n",
       "         [ 74, 101, 124],\n",
       "         [ 82, 106, 126],\n",
       "         ...,\n",
       "         [ 72,  94, 122],\n",
       "         [ 67,  94, 119],\n",
       "         [ 68,  94, 120]]]], dtype=uint8)"
      ]
     },
     "execution_count": 6,
     "metadata": {},
     "output_type": "execute_result"
    }
   ],
   "source": [
    "visages"
   ]
  },
  {
   "cell_type": "code",
   "execution_count": 7,
   "id": "a8436555",
   "metadata": {},
   "outputs": [
    {
     "data": {
      "text/plain": [
       "(20, 50, 50, 3)"
      ]
     },
     "execution_count": 7,
     "metadata": {},
     "output_type": "execute_result"
    }
   ],
   "source": [
    "visages.shape"
   ]
  },
  {
   "cell_type": "code",
   "execution_count": 8,
   "id": "1ef19a8e",
   "metadata": {},
   "outputs": [
    {
     "data": {
      "text/plain": [
       "(50, 50, 3)"
      ]
     },
     "execution_count": 8,
     "metadata": {},
     "output_type": "execute_result"
    }
   ],
   "source": [
    "sample_1 = visages[0]\n",
    "sample_1.shape"
   ]
  },
  {
   "cell_type": "code",
   "execution_count": 9,
   "id": "c3539263",
   "metadata": {},
   "outputs": [
    {
     "data": {
      "text/plain": [
       "<matplotlib.image.AxesImage at 0x1c6a6257590>"
      ]
     },
     "execution_count": 9,
     "metadata": {},
     "output_type": "execute_result"
    },
    {
     "data": {
      "image/png": "[encoded data removed]",
      "text/plain": [
       "<Figure size 640x480 with 1 Axes>"
      ]
     },
     "metadata": {},
     "output_type": "display_data"
    }
   ],
   "source": [
    "plt.imshow(sample_1, interpolation=\"nearest\")"
   ]
  },
  {
   "cell_type": "code",
   "execution_count": 10,
   "id": "ac4aaef1",
   "metadata": {},
   "outputs": [
    {
     "data": {
      "text/plain": [
       "(50, 50, 3)"
      ]
     },
     "execution_count": 10,
     "metadata": {},
     "output_type": "execute_result"
    }
   ],
   "source": [
    "sample_2 = visages[5]\n",
    "sample_2.shape"
   ]
  },
  {
   "cell_type": "code",
   "execution_count": 11,
   "id": "ed489bfa",
   "metadata": {},
   "outputs": [
    {
     "data": {
      "text/plain": [
       "<matplotlib.image.AxesImage at 0x1c6a94bed20>"
      ]
     },
     "execution_count": 11,
     "metadata": {},
     "output_type": "execute_result"
    },
    {
     "data": {
      "image/png": "[encoded data removed]",
      "text/plain": [
       "<Figure size 640x480 with 1 Axes>"
      ]
     },
     "metadata": {},
     "output_type": "display_data"
    }
   ],
   "source": [
    "plt.imshow(sample_2, interpolation=\"nearest\")"
   ]
  }
 ],
 "metadata": {
  "kernelspec": {
   "display_name": "Python 3",
   "language": "python",
   "name": "python3"
  },
  "language_info": {
   "codemirror_mode": {
    "name": "ipython",
    "version": 3
   },
   "file_extension": ".py",
   "mimetype": "text/x-python",
   "name": "python",
   "nbconvert_exporter": "python",
   "pygments_lexer": "ipython3",
   "version": "3.12.1"
  }
 },
 "nbformat": 4,
 "nbformat_minor": 5
}
