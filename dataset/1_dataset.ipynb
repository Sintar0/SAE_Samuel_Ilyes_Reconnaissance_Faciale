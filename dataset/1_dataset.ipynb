{
 "cells": [
  {
   "cell_type": "markdown",
   "id": "0a361880",
   "metadata": {},
   "source": [
    "# Reconnaissance faciale via $k$ plus proches voisins ($k$-NN)\n",
    "\n",
    ">## Partie 1: Dataset"
   ]
  },
  {
   "cell_type": "markdown",
   "id": "9a9f35df",
   "metadata": {},
   "source": [
    "## Librairies"
   ]
  },
  {
   "cell_type": "markdown",
   "id": "d691df55",
   "metadata": {},
   "source": [
    "- La librairie `cv2` permet la détection automatique de visages, entre autres.\n",
    "\n",
    "- La librairie `pickle` permet de sauvegarder vos modèles une fois entraînés, et de les recharger pour pouvoir les utiliser."
   ]
  },
  {
   "cell_type": "code",
   "execution_count": 1,
   "id": "8a41298c",
   "metadata": {},
   "outputs": [],
   "source": [
    "import os\n",
    "\n",
    "import cv2\n",
    "import pickle\n",
    "\n",
    "import numpy as np\n",
    "\n",
    "import matplotlib.pyplot as plt"
   ]
  },
  {
   "cell_type": "markdown",
   "id": "2089bbe3",
   "metadata": {},
   "source": [
    "## Création du dataset"
   ]
  },
  {
   "cell_type": "markdown",
   "id": "b0183880",
   "metadata": {},
   "source": [
    "Le code suivant permet de créer un **dataset** d'images que vous utiliserez dans votre projet de **reconnaissance faciale**. Ce dataset contiendra des images de vous-même associées à votre nom ainsi que des images d'autres personnes (par exemple vos camarades) associées à leurs noms. **À chaque fois que vos relancez le code ci-dessous, votre caméra capture 10 images de la personne qui se trouve devant vootre PC et ajoute ces dernières à votre dataset.** \n",
    "\n",
    "Le code effectue les opérations suivantes. Premièrement, on lit le flux vidéo de votre caméra et on détecte automatiquement les visages dans chaque image de ce flux en utilisant le **classificateur en cascade de Haar (Haar cascade classifier)** de la librairie `OpenCV`. \n",
    "\n",
    "Plus précisément, tant que la variable `ret` est vraie, indiquant que le flux vidéo est lu correctement, pour chaque image capturée par la caméras, on effectue les opérations suivantes:\n",
    "1. on convertit l'image en niveaux de gris;\n",
    "2. on détecte les coordonnées du visage en utilisant le classificateur en cascade de Haar;\n",
    "3. on recadre la région du visage et la redimensionne en $50 \\times 50$ pixels;\n",
    "4. on ajoute l'image du visage redimensionné à la liste `donnees_visage`, à chaque intervalle de $10$ images.\n",
    "\n",
    "Une fois que $10$ images de votre visage ont été collecteés, ou si l'utilisateur appuye sur la touche `Esc`, on met fin à la boucle et enregistre les images dans la liste `donnees_visage` sous forme d'un tableau `NumPy`.\n",
    "\n",
    "Par la suite, l'existence des fichiers `noms.pkl` et `visages.pkl` est vérifiée. S'ils n'existent pas, de nouveaux fichiers sont créés, la variable `nom` est enregistrée dans `noms.pkl` et les données de visage sont enregistrées dans `visages.pkl`. Si ces fichiers existent déjà, le code charge les données existantes, ajoute les nouvelles données de visage et noms, et les réenregistre le tout dans ces fichiers."
   ]
  },
  {
   "cell_type": "code",
   "execution_count": 2,
   "id": "1ba3a98f",
   "metadata": {},
   "outputs": [],
   "source": [
    "# ================== #\n",
    "# Variables globales #\n",
    "# ================== #\n",
    "if not os.path.exists(\"data\"):\n",
    "    os.mkdir(\"data\")         # création d'un répertoire data\n",
    "\n",
    "nb_images_collectees = 10    # nombre d'image que vous voulez collecter\n",
    "\n",
    "donnees_visage = []\n",
    "\n",
    "camera = cv2.VideoCapture(0) # 0 pour 'built-in' caméra, 1 pour caméra externe\n",
    "\n",
    "cascade_visage = cv2.CascadeClassifier(cv2.data.haarcascades + 'haarcascade_frontalface_default.xml')\n",
    "\n",
    "\n",
    "\n",
    "# =============================== #\n",
    "# Capture des data: nom et images #\n",
    "# =============================== #\n",
    "nom = input(\"Entrez votre nom: \")\n",
    "\n",
    "ret = True\n",
    "i = 0\n",
    "\n",
    "while(ret):\n",
    "    \n",
    "    ret, frame = camera.read()\n",
    "    \n",
    "    if ret == True:\n",
    "        \n",
    "        gris = cv2.cvtColor(frame, cv2.COLOR_BGR2GRAY)\n",
    "\n",
    "        coordonnees_visage = cascade_visage.detectMultiScale(gris, 1.3, 4)\n",
    "\n",
    "        for (a, b, w, h) in coordonnees_visage:\n",
    "            \n",
    "            visages = frame[b:b+h, a:a+w, :]\n",
    "            visages_redimensionnes = cv2.resize(visages, (50, 50))\n",
    "            \n",
    "            if i % 10 == 0 and len(donnees_visage) < nb_images_collectees:\n",
    "                \n",
    "                donnees_visage.append(visages_redimensionnes)\n",
    "                \n",
    "            cv2.rectangle(frame, (a, b), (a+w, b+h), (255, 0, 0), 2)\n",
    "            \n",
    "        i += 1\n",
    "\n",
    "        cv2.imshow('Visages', frame)\n",
    "\n",
    "        if cv2.waitKey(1) == 27 or len(donnees_visage) >= nb_images_collectees:\n",
    "            \n",
    "            break\n",
    "    else:\n",
    "        \n",
    "        print('erreur')\n",
    "        break\n",
    "    \n",
    "\n",
    "cv2.destroyAllWindows()\n",
    "camera.release()\n",
    "\n",
    "donnees_visage = np.asarray(donnees_visage)\n",
    "# donnees_visage = donnees_visage.reshape(10, -1)\n",
    "\n",
    "\n",
    "# ======================================= #\n",
    "# Enregistrement des data:  nom et images #\n",
    "# ======================================= #\n",
    "if 'noms.pkl' not in os.listdir('data/'):\n",
    "    \n",
    "    noms = [nom]*10\n",
    "    with open('data/noms.pkl', 'wb') as file:\n",
    "        pickle.dump(noms, file)\n",
    "else:\n",
    "    \n",
    "    with open('data/noms.pkl', 'rb') as file:\n",
    "        noms = pickle.load(file)\n",
    "\n",
    "    noms = noms + [nom]*10\n",
    "    with open('data/noms.pkl', 'wb') as file:\n",
    "        pickle.dump(noms, file)\n",
    "\n",
    "\n",
    "if 'visages.pkl' not in os.listdir('data/'):\n",
    "    \n",
    "    with open('data/visages.pkl', 'wb') as w:\n",
    "        pickle.dump(donnees_visage, w)\n",
    "else:\n",
    "    \n",
    "    with open('data/visages.pkl', 'rb') as w:\n",
    "        visages = pickle.load(w)\n",
    "\n",
    "    visages = np.append(visages, donnees_visage, axis=0)\n",
    "    with open('data/visages.pkl', 'wb') as w:\n",
    "        pickle.dump(visages, w)"
   ]
  },
  {
   "cell_type": "markdown",
   "id": "e3bec3e0",
   "metadata": {},
   "source": [
    "## Visualisation du dataset"
   ]
  },
  {
   "cell_type": "markdown",
   "id": "08df3d2c",
   "metadata": {},
   "source": [
    "Le instructions suivantes permettent de loader votre dataset et de comprendre comment sont stockées les data.\n",
    "\n",
    "Prêtez attention aux types de vos data, en particulier à la dimension de vos images, etc."
   ]
  },
  {
   "cell_type": "code",
   "execution_count": 3,
   "id": "c4c5cd3d",
   "metadata": {},
   "outputs": [],
   "source": [
    "with open(\"data/noms.pkl\", \"rb\") as fh:\n",
    "    noms = pickle.load(fh)"
   ]
  },
  {
   "cell_type": "code",
   "execution_count": 4,
   "id": "b3af5a29",
   "metadata": {},
   "outputs": [
    {
     "data": {
      "text/plain": [
       "['Ilyes',\n",
       " 'Ilyes',\n",
       " 'Ilyes',\n",
       " 'Ilyes',\n",
       " 'Ilyes',\n",
       " 'Ilyes',\n",
       " 'Ilyes',\n",
       " 'Ilyes',\n",
       " 'Ilyes',\n",
       " 'Ilyes']"
      ]
     },
     "execution_count": 4,
     "metadata": {},
     "output_type": "execute_result"
    }
   ],
   "source": [
    "noms"
   ]
  },
  {
   "cell_type": "code",
   "execution_count": 5,
   "id": "d7fc242c",
   "metadata": {},
   "outputs": [],
   "source": [
    "with open(\"data/visages.pkl\", \"rb\") as fh:\n",
    "    visages = pickle.load(fh)"
   ]
  },
  {
   "cell_type": "code",
   "execution_count": 6,
   "id": "10dab6d3",
   "metadata": {},
   "outputs": [
    {
     "data": {
      "text/plain": [
       "array([[[[130, 126, 124],\n",
       "         [111, 102, 101],\n",
       "         [107,  96,  94],\n",
       "         ...,\n",
       "         [127, 127, 127],\n",
       "         [124, 125, 125],\n",
       "         [120, 125, 124]],\n",
       "\n",
       "        [[119, 114, 112],\n",
       "         [108,  98,  96],\n",
       "         [109,  96,  95],\n",
       "         ...,\n",
       "         [124, 127, 127],\n",
       "         [123, 125, 125],\n",
       "         [120, 125, 125]],\n",
       "\n",
       "        [[114, 108, 103],\n",
       "         [105,  93,  89],\n",
       "         [105,  90,  88],\n",
       "         ...,\n",
       "         [126, 128, 128],\n",
       "         [125, 129, 129],\n",
       "         [120, 123, 123]],\n",
       "\n",
       "        ...,\n",
       "\n",
       "        [[ 17,  18,  16],\n",
       "         [ 19,  19,  17],\n",
       "         [ 22,  22,  22],\n",
       "         ...,\n",
       "         [ 39,  36,  36],\n",
       "         [ 38,  36,  35],\n",
       "         [ 47,  47,  45]],\n",
       "\n",
       "        [[ 17,  18,  15],\n",
       "         [ 20,  20,  19],\n",
       "         [ 26,  26,  26],\n",
       "         ...,\n",
       "         [ 45,  42,  42],\n",
       "         [ 42,  41,  40],\n",
       "         [ 37,  38,  35]],\n",
       "\n",
       "        [[ 17,  18,  16],\n",
       "         [ 22,  22,  19],\n",
       "         [ 23,  23,  23],\n",
       "         ...,\n",
       "         [ 30,  28,  28],\n",
       "         [ 39,  38,  36],\n",
       "         [ 51,  49,  47]]],\n",
       "\n",
       "\n",
       "       [[[124, 119, 120],\n",
       "         [112, 106, 104],\n",
       "         [ 97,  88,  87],\n",
       "         ...,\n",
       "         [127, 126, 126],\n",
       "         [121, 122, 119],\n",
       "         [117, 118, 117]],\n",
       "\n",
       "        [[124, 118, 116],\n",
       "         [ 99,  90,  89],\n",
       "         [ 96,  85,  81],\n",
       "         ...,\n",
       "         [119, 119, 118],\n",
       "         [120, 120, 117],\n",
       "         [115, 117, 116]],\n",
       "\n",
       "        [[118, 111, 108],\n",
       "         [ 93,  85,  79],\n",
       "         [ 91,  80,  77],\n",
       "         ...,\n",
       "         [119, 121, 118],\n",
       "         [125, 127, 127],\n",
       "         [116, 117, 116]],\n",
       "\n",
       "        ...,\n",
       "\n",
       "        [[ 13,  13,  12],\n",
       "         [ 11,  14,  11],\n",
       "         [ 13,  13,  11],\n",
       "         ...,\n",
       "         [ 36,  33,  32],\n",
       "         [ 35,  32,  33],\n",
       "         [ 31,  30,  30]],\n",
       "\n",
       "        [[ 14,  14,  14],\n",
       "         [ 13,  13,  11],\n",
       "         [ 15,  15,  14],\n",
       "         ...,\n",
       "         [ 21,  20,  19],\n",
       "         [ 27,  24,  25],\n",
       "         [ 33,  33,  33]],\n",
       "\n",
       "        [[ 14,  14,  14],\n",
       "         [ 13,  13,  11],\n",
       "         [ 13,  14,  14],\n",
       "         ...,\n",
       "         [ 16,  16,  13],\n",
       "         [ 15,  16,  13],\n",
       "         [ 17,  18,  16]]],\n",
       "\n",
       "\n",
       "       [[[131, 124, 125],\n",
       "         [112, 104, 103],\n",
       "         [105,  95,  91],\n",
       "         ...,\n",
       "         [129, 128, 127],\n",
       "         [126, 126, 124],\n",
       "         [121, 123, 121]],\n",
       "\n",
       "        [[124, 117, 116],\n",
       "         [107,  97,  96],\n",
       "         [105,  91,  90],\n",
       "         ...,\n",
       "         [132, 133, 130],\n",
       "         [129, 130, 128],\n",
       "         [121, 123, 121]],\n",
       "\n",
       "        [[118, 110, 107],\n",
       "         [101,  90,  86],\n",
       "         [ 97,  85,  81],\n",
       "         ...,\n",
       "         [123, 124, 123],\n",
       "         [131, 133, 133],\n",
       "         [120, 121, 121]],\n",
       "\n",
       "        ...,\n",
       "\n",
       "        [[ 16,  15,  15],\n",
       "         [ 16,  17,  14],\n",
       "         [ 21,  21,  19],\n",
       "         ...,\n",
       "         [ 43,  40,  38],\n",
       "         [ 39,  36,  34],\n",
       "         [ 40,  39,  37]],\n",
       "\n",
       "        [[ 16,  16,  16],\n",
       "         [ 19,  19,  16],\n",
       "         [ 21,  22,  20],\n",
       "         ...,\n",
       "         [ 28,  26,  24],\n",
       "         [ 38,  37,  34],\n",
       "         [ 46,  45,  43]],\n",
       "\n",
       "        [[ 16,  16,  16],\n",
       "         [ 19,  19,  18],\n",
       "         [ 17,  17,  17],\n",
       "         ...,\n",
       "         [ 19,  19,  19],\n",
       "         [ 22,  20,  20],\n",
       "         [ 28,  26,  25]]],\n",
       "\n",
       "\n",
       "       ...,\n",
       "\n",
       "\n",
       "       [[[160, 153, 154],\n",
       "         [154, 144, 143],\n",
       "         [148, 132, 131],\n",
       "         ...,\n",
       "         [152, 153, 152],\n",
       "         [142, 145, 144],\n",
       "         [129, 135, 137]],\n",
       "\n",
       "        [[165, 154, 155],\n",
       "         [147, 135, 135],\n",
       "         [143, 130, 129],\n",
       "         ...,\n",
       "         [149, 152, 151],\n",
       "         [141, 143, 143],\n",
       "         [125, 133, 135]],\n",
       "\n",
       "        [[156, 145, 144],\n",
       "         [147, 133, 131],\n",
       "         [144, 128, 127],\n",
       "         ...,\n",
       "         [148, 150, 150],\n",
       "         [142, 144, 146],\n",
       "         [124, 130, 133]],\n",
       "\n",
       "        ...,\n",
       "\n",
       "        [[ 48,  44,  42],\n",
       "         [ 62,  57,  57],\n",
       "         [ 62,  55,  56],\n",
       "         ...,\n",
       "         [122, 120, 120],\n",
       "         [134, 134, 134],\n",
       "         [141, 144, 142]],\n",
       "\n",
       "        [[ 53,  49,  47],\n",
       "         [ 55,  51,  51],\n",
       "         [ 58,  51,  51],\n",
       "         ...,\n",
       "         [ 93,  88,  89],\n",
       "         [131, 129, 128],\n",
       "         [140, 144, 142]],\n",
       "\n",
       "        [[ 52,  45,  45],\n",
       "         [ 52,  46,  47],\n",
       "         [ 70,  63,  61],\n",
       "         ...,\n",
       "         [ 64,  58,  58],\n",
       "         [105, 103, 102],\n",
       "         [141, 144, 142]]],\n",
       "\n",
       "\n",
       "       [[[162, 151, 149],\n",
       "         [148, 135, 131],\n",
       "         [145, 130, 126],\n",
       "         ...,\n",
       "         [154, 154, 152],\n",
       "         [149, 151, 151],\n",
       "         [141, 143, 143]],\n",
       "\n",
       "        [[154, 142, 139],\n",
       "         [148, 132, 129],\n",
       "         [143, 128, 124],\n",
       "         ...,\n",
       "         [153, 153, 153],\n",
       "         [148, 151, 151],\n",
       "         [141, 145, 147]],\n",
       "\n",
       "        [[144, 133, 129],\n",
       "         [145, 131, 125],\n",
       "         [144, 129, 126],\n",
       "         ...,\n",
       "         [148, 150, 150],\n",
       "         [144, 147, 147],\n",
       "         [138, 142, 144]],\n",
       "\n",
       "        ...,\n",
       "\n",
       "        [[ 54,  49,  47],\n",
       "         [ 69,  62,  62],\n",
       "         [ 68,  60,  61],\n",
       "         ...,\n",
       "         [ 88,  83,  84],\n",
       "         [137, 135, 134],\n",
       "         [135, 135, 135]],\n",
       "\n",
       "        [[ 60,  55,  54],\n",
       "         [ 59,  54,  55],\n",
       "         [ 57,  51,  51],\n",
       "         ...,\n",
       "         [ 91,  82,  83],\n",
       "         [ 99,  93,  92],\n",
       "         [135, 136, 133]],\n",
       "\n",
       "        [[ 53,  49,  49],\n",
       "         [ 52,  47,  48],\n",
       "         [ 65,  58,  57],\n",
       "         ...,\n",
       "         [ 59,  52,  52],\n",
       "         [ 73,  68,  69],\n",
       "         [126, 124, 122]]],\n",
       "\n",
       "\n",
       "       [[[162, 149, 145],\n",
       "         [149, 134, 129],\n",
       "         [147, 131, 124],\n",
       "         ...,\n",
       "         [156, 154, 152],\n",
       "         [150, 150, 148],\n",
       "         [143, 144, 141]],\n",
       "\n",
       "        [[153, 139, 133],\n",
       "         [150, 133, 126],\n",
       "         [145, 127, 120],\n",
       "         ...,\n",
       "         [151, 151, 151],\n",
       "         [149, 150, 148],\n",
       "         [146, 146, 146]],\n",
       "\n",
       "        [[146, 132, 125],\n",
       "         [146, 130, 122],\n",
       "         [145, 128, 122],\n",
       "         ...,\n",
       "         [149, 152, 150],\n",
       "         [147, 147, 145],\n",
       "         [141, 141, 141]],\n",
       "\n",
       "        ...,\n",
       "\n",
       "        [[ 59,  51,  49],\n",
       "         [ 72,  63,  61],\n",
       "         [ 66,  56,  57],\n",
       "         ...,\n",
       "         [ 89,  83,  81],\n",
       "         [142, 139, 136],\n",
       "         [136, 134, 132]],\n",
       "\n",
       "        [[ 62,  55,  52],\n",
       "         [ 61,  54,  55],\n",
       "         [ 59,  49,  50],\n",
       "         ...,\n",
       "         [ 92,  84,  82],\n",
       "         [ 99,  94,  92],\n",
       "         [137, 135, 133]],\n",
       "\n",
       "        [[ 55,  49,  48],\n",
       "         [ 53,  46,  47],\n",
       "         [ 61,  52,  51],\n",
       "         ...,\n",
       "         [ 62,  53,  52],\n",
       "         [ 76,  70,  68],\n",
       "         [129, 127, 125]]]], dtype=uint8)"
      ]
     },
     "execution_count": 6,
     "metadata": {},
     "output_type": "execute_result"
    }
   ],
   "source": [
    "visages"
   ]
  },
  {
   "cell_type": "code",
   "execution_count": 7,
   "id": "a8436555",
   "metadata": {},
   "outputs": [
    {
     "data": {
      "text/plain": [
       "(10, 50, 50, 3)"
      ]
     },
     "execution_count": 7,
     "metadata": {},
     "output_type": "execute_result"
    }
   ],
   "source": [
    "visages.shape"
   ]
  },
  {
   "cell_type": "code",
   "execution_count": 8,
   "id": "1ef19a8e",
   "metadata": {},
   "outputs": [
    {
     "data": {
      "text/plain": [
       "(50, 50, 3)"
      ]
     },
     "execution_count": 8,
     "metadata": {},
     "output_type": "execute_result"
    }
   ],
   "source": [
    "sample_1 = visages[0]\n",
    "sample_1.shape"
   ]
  },
  {
   "cell_type": "code",
   "execution_count": 9,
   "id": "c3539263",
   "metadata": {},
   "outputs": [
    {
     "data": {
      "text/plain": [
       "<matplotlib.image.AxesImage at 0x2757238b710>"
      ]
     },
     "execution_count": 9,
     "metadata": {},
     "output_type": "execute_result"
    },
    {
     "data": {
      "image/png": "[encoded data removed]",
      "text/plain": [
       "<Figure size 640x480 with 1 Axes>"
      ]
     },
     "metadata": {},
     "output_type": "display_data"
    }
   ],
   "source": [
    "plt.imshow(sample_1, interpolation=\"nearest\")"
   ]
  },
  {
   "cell_type": "code",
   "execution_count": 10,
   "id": "ac4aaef1",
   "metadata": {},
   "outputs": [
    {
     "data": {
      "text/plain": [
       "(50, 50, 3)"
      ]
     },
     "execution_count": 10,
     "metadata": {},
     "output_type": "execute_result"
    }
   ],
   "source": [
    "sample_2 = visages[8]\n",
    "sample_2.shape"
   ]
  },
  {
   "cell_type": "code",
   "execution_count": 11,
   "id": "ed489bfa",
   "metadata": {},
   "outputs": [
    {
     "data": {
      "text/plain": [
       "<matplotlib.image.AxesImage at 0x27572434c20>"
      ]
     },
     "execution_count": 11,
     "metadata": {},
     "output_type": "execute_result"
    },
    {
     "data": {
      "image/png": "[encoded data removed]",
      "text/plain": [
       "<Figure size 640x480 with 1 Axes>"
      ]
     },
     "metadata": {},
     "output_type": "display_data"
    }
   ],
   "source": [
    "plt.imshow(sample_2, interpolation=\"nearest\")"
   ]
  }
 ],
 "metadata": {
  "kernelspec": {
   "display_name": "Python 3",
   "language": "python",
   "name": "python3"
  },
  "language_info": {
   "codemirror_mode": {
    "name": "ipython",
    "version": 3
   },
   "file_extension": ".py",
   "mimetype": "text/x-python",
   "name": "python",
   "nbconvert_exporter": "python",
   "pygments_lexer": "ipython3",
   "version": "3.12.1"
  }
 },
 "nbformat": 4,
 "nbformat_minor": 5
}
