{
 "cells": [
  {
   "cell_type": "markdown",
   "id": "84f51b2b",
   "metadata": {},
   "source": [
    "\n",
    "# Reconnaissance faciale via un arbre de décision de décision binaire\n",
    "\n",
    "## Partie 2: Reconnaissance faciale en temps réel"
   ]
  },
  {
   "cell_type": "markdown",
   "id": "bfb3d054",
   "metadata": {},
   "source": [
    "## Librairies"
   ]
  },
  {
   "cell_type": "code",
   "execution_count": 1,
   "id": "3b2f2e32",
   "metadata": {},
   "outputs": [],
   "source": [
    "import pickle\n",
    "import numpy as np\n",
    "\n",
    "import cv2\n",
    "\n",
    "from sklearn import tree # < = importation du package d'algo binary tree via la librairie scikit-learn"
   ]
  },
  {
   "cell_type": "markdown",
   "id": "7dfbac10",
   "metadata": {},
   "source": [
    "## Algorithme"
   ]
  },
  {
   "cell_type": "code",
   "execution_count": 2,
   "id": "b8d4b3ee",
   "metadata": {},
   "outputs": [
    {
     "name": "stdout",
     "output_type": "stream",
     "text": [
      "Shape of visages matrix -->  (20, 50, 50, 3)\n"
     ]
    }
   ],
   "source": [
    "# Variable vers le dataset\n",
    "DATASET = \"../dataset/data/\"\n",
    "\n",
    "with open(DATASET+'/visages.pkl', 'rb') as fh:\n",
    "    visages = pickle.load(fh)\n",
    "\n",
    "with open(DATASET+'/noms.pkl', 'rb') as fh:\n",
    "    noms = pickle.load(fh)\n",
    "\n",
    "print('Shape of visages matrix --> ', visages.shape)"
   ]
  },
  {
   "cell_type": "markdown",
   "id": "42790305",
   "metadata": {},
   "source": [
    "# Arbre binaire de décision (Decision Tree) :\n",
    "\n",
    "Les arbres binaires de décisions sont des  modèles d'apprentissages automatique qui utilisent des structures en forme d'arbres pour prendre des décisions. Le but est de trouver le meilleur découpage des données du dataset. Dans un arbre de déscision chaque nœud de l'arbre représente une caractéristique (ou un attribut), chaque branche représente une décision basée sur cette caractéristique, et chaque feuille représente la sortie (la classe ou la valeur prédite)."
   ]
  },
  {
   "cell_type": "code",
   "execution_count": 3,
   "id": "279bc064",
   "metadata": {},
   "outputs": [
    {
     "data": {
      "text/html": [
       "<style>#sk-container-id-1 {color: black;background-color: white;}#sk-container-id-1 pre{padding: 0;}#sk-container-id-1 div.sk-toggleable {background-color: white;}#sk-container-id-1 label.sk-toggleable__label {cursor: pointer;display: block;width: 100%;margin-bottom: 0;padding: 0.3em;box-sizing: border-box;text-align: center;}#sk-container-id-1 label.sk-toggleable__label-arrow:before {content: \"▸\";float: left;margin-right: 0.25em;color: #696969;}#sk-container-id-1 label.sk-toggleable__label-arrow:hover:before {color: black;}#sk-container-id-1 div.sk-estimator:hover label.sk-toggleable__label-arrow:before {color: black;}#sk-container-id-1 div.sk-toggleable__content {max-height: 0;max-width: 0;overflow: hidden;text-align: left;background-color: #f0f8ff;}#sk-container-id-1 div.sk-toggleable__content pre {margin: 0.2em;color: black;border-radius: 0.25em;background-color: #f0f8ff;}#sk-container-id-1 input.sk-toggleable__control:checked~div.sk-toggleable__content {max-height: 200px;max-width: 100%;overflow: auto;}#sk-container-id-1 input.sk-toggleable__control:checked~label.sk-toggleable__label-arrow:before {content: \"▾\";}#sk-container-id-1 div.sk-estimator input.sk-toggleable__control:checked~label.sk-toggleable__label {background-color: #d4ebff;}#sk-container-id-1 div.sk-label input.sk-toggleable__control:checked~label.sk-toggleable__label {background-color: #d4ebff;}#sk-container-id-1 input.sk-hidden--visually {border: 0;clip: rect(1px 1px 1px 1px);clip: rect(1px, 1px, 1px, 1px);height: 1px;margin: -1px;overflow: hidden;padding: 0;position: absolute;width: 1px;}#sk-container-id-1 div.sk-estimator {font-family: monospace;background-color: #f0f8ff;border: 1px dotted black;border-radius: 0.25em;box-sizing: border-box;margin-bottom: 0.5em;}#sk-container-id-1 div.sk-estimator:hover {background-color: #d4ebff;}#sk-container-id-1 div.sk-parallel-item::after {content: \"\";width: 100%;border-bottom: 1px solid gray;flex-grow: 1;}#sk-container-id-1 div.sk-label:hover label.sk-toggleable__label {background-color: #d4ebff;}#sk-container-id-1 div.sk-serial::before {content: \"\";position: absolute;border-left: 1px solid gray;box-sizing: border-box;top: 0;bottom: 0;left: 50%;z-index: 0;}#sk-container-id-1 div.sk-serial {display: flex;flex-direction: column;align-items: center;background-color: white;padding-right: 0.2em;padding-left: 0.2em;position: relative;}#sk-container-id-1 div.sk-item {position: relative;z-index: 1;}#sk-container-id-1 div.sk-parallel {display: flex;align-items: stretch;justify-content: center;background-color: white;position: relative;}#sk-container-id-1 div.sk-item::before, #sk-container-id-1 div.sk-parallel-item::before {content: \"\";position: absolute;border-left: 1px solid gray;box-sizing: border-box;top: 0;bottom: 0;left: 50%;z-index: -1;}#sk-container-id-1 div.sk-parallel-item {display: flex;flex-direction: column;z-index: 1;position: relative;background-color: white;}#sk-container-id-1 div.sk-parallel-item:first-child::after {align-self: flex-end;width: 50%;}#sk-container-id-1 div.sk-parallel-item:last-child::after {align-self: flex-start;width: 50%;}#sk-container-id-1 div.sk-parallel-item:only-child::after {width: 0;}#sk-container-id-1 div.sk-dashed-wrapped {border: 1px dashed gray;margin: 0 0.4em 0.5em 0.4em;box-sizing: border-box;padding-bottom: 0.4em;background-color: white;}#sk-container-id-1 div.sk-label label {font-family: monospace;font-weight: bold;display: inline-block;line-height: 1.2em;}#sk-container-id-1 div.sk-label-container {text-align: center;}#sk-container-id-1 div.sk-container {/* jupyter's `normalize.less` sets `[hidden] { display: none; }` but bootstrap.min.css set `[hidden] { display: none !important; }` so we also need the `!important` here to be able to override the default hidden behavior on the sphinx rendered scikit-learn.org. See: https://github.com/scikit-learn/scikit-learn/issues/21755 */display: inline-block !important;position: relative;}#sk-container-id-1 div.sk-text-repr-fallback {display: none;}</style><div id=\"sk-container-id-1\" class=\"sk-top-container\"><div class=\"sk-text-repr-fallback\"><pre>DecisionTreeClassifier()</pre><b>In a Jupyter environment, please rerun this cell to show the HTML representation or trust the notebook. <br />On GitHub, the HTML representation is unable to render, please try loading this page with nbviewer.org.</b></div><div class=\"sk-container\" hidden><div class=\"sk-item\"><div class=\"sk-estimator sk-toggleable\"><input class=\"sk-toggleable__control sk-hidden--visually\" id=\"sk-estimator-id-1\" type=\"checkbox\" checked><label for=\"sk-estimator-id-1\" class=\"sk-toggleable__label sk-toggleable__label-arrow\">DecisionTreeClassifier</label><div class=\"sk-toggleable__content\"><pre>DecisionTreeClassifier()</pre></div></div></div></div></div>"
      ],
      "text/plain": [
       "DecisionTreeClassifier()"
      ]
     },
     "execution_count": 3,
     "metadata": {},
     "output_type": "execute_result"
    }
   ],
   "source": [
    "\"\"\"\n",
    "Ce code entraîne un classificateur d'arbre de décision en utilisant l'ensemble de données donné de visages et de noms correspondants.\n",
    "\n",
    "params:\n",
    "- visages : tableau numpy représentant les images de visage, remodelé en tableau 2D avec forme (N, M), où N est le nombre d’échantillons et M le nombre de caractéristiques.\n",
    "- noms : liste des noms correspondant aux images des visages.\n",
    "\n",
    "returns:\n",
    "- clf : classificateur d'arbre de décision formé.\n",
    "\"\"\"\n",
    "\n",
    "N = len(noms)\n",
    "\n",
    "visages = visages.reshape(N, -1)\n",
    "\n",
    "clf = tree.DecisionTreeClassifier()\n",
    "clf.fit(visages, noms)\n"
   ]
  },
  {
   "cell_type": "markdown",
   "id": "5713d005",
   "metadata": {},
   "source": [
    "## Exécution"
   ]
  },
  {
   "cell_type": "code",
   "execution_count": 4,
   "id": "03952133",
   "metadata": {},
   "outputs": [],
   "source": [
    "# On importe coordonées des visages\n",
    "cascade_visage = cv2.CascadeClassifier(cv2.data.haarcascades + 'haarcascade_frontalface_default.xml')\n",
    "\n",
    "camera = cv2.VideoCapture(0) # 0 pour 'built-in' caméra, 1 pour caméra externe\n",
    "\n",
    "while True:\n",
    "    \n",
    "    ret, trame = camera.read()\n",
    "    if ret == True:\n",
    "        \n",
    "        gris = cv2.cvtColor(trame, cv2.COLOR_BGR2GRAY)\n",
    "        coordonnees_visage = cascade_visage.detectMultiScale(gris, 1.3, 5)\n",
    "\n",
    "        for (x, y, l, h) in coordonnees_visage:\n",
    "            \n",
    "            visage = trame[y:y + h, x:x + l, :]\n",
    "            visage_redimensionne = cv2.resize(visage, (50, 50)).flatten().reshape(1,-1)\n",
    "            \n",
    "            texte = clf.predict(visage_redimensionne)\n",
    "            \n",
    "            cv2.putText(trame, texte[0], (x, y-10), cv2.FONT_HERSHEY_SIMPLEX, 1, (255, 255, 0), 2)\n",
    "            cv2.rectangle(trame, (x, y), (x + l, y + l), (0, 0, 255), 2)\n",
    "\n",
    "        cv2.imshow('Reconnaissance faciale en temps réel', trame)\n",
    "        \n",
    "        if cv2.waitKey(1) == 27:\n",
    "            break\n",
    "            \n",
    "    else:\n",
    "        \n",
    "        print(\"erreur\")\n",
    "        break\n",
    "\n",
    "cv2.destroyAllWindows()\n",
    "camera.release()"
   ]
  }
 ],
 "metadata": {
  "kernelspec": {
   "display_name": "Python 3",
   "language": "python",
   "name": "python3"
  },
  "language_info": {
   "codemirror_mode": {
    "name": "ipython",
    "version": 3
   },
   "file_extension": ".py",
   "mimetype": "text/x-python",
   "name": "python",
   "nbconvert_exporter": "python",
   "pygments_lexer": "ipython3",
   "version": "3.9.13"
  }
 },
 "nbformat": 4,
 "nbformat_minor": 5
}
